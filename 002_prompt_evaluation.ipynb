version https://git-lfs.github.com/spec/v1
oid sha256:f39c704f8ddddd80cc8219067106f525ef974d111f4fcc3411fcbc2bb6baf4be
size 1050039
