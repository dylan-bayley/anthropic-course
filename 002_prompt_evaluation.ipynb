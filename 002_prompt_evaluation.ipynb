version https://git-lfs.github.com/spec/v1
oid sha256:cbbc06bdf3ce6db2f13590cdc7f6298471485cee7ec3837f6743607cfcd11252
size 1046139
