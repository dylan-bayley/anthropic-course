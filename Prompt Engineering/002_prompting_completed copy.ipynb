version https://git-lfs.github.com/spec/v1
oid sha256:74c0edac67a8fdcfec526334f28ea61de0fadc45f15c83598235074d80094040
size 34143
