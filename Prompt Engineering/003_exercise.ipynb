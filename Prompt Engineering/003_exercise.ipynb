version https://git-lfs.github.com/spec/v1
oid sha256:aeac8364fdd871088c0a15ada416fcaea8630c48110403bec5fc24dfb14d1531
size 33280
