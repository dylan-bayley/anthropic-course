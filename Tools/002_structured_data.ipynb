version https://git-lfs.github.com/spec/v1
oid sha256:e8352d23568660921038cc169ab18ee274787f744f1f4a640ab5c866b2bdc2ae
size 20193
