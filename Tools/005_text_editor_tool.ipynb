version https://git-lfs.github.com/spec/v1
oid sha256:6a2af9860e49689d493234cc03cd9a62b886b51718d9d52a9ea94010f54a539a
size 17253
